{
 "cells": [
  {
   "cell_type": "code",
   "execution_count": 2,
   "id": "ba7c43e9",
   "metadata": {},
   "outputs": [],
   "source": [
    "# pr -> Price, pro -> Product, qn -> Quantity\n",
    "\n",
    "# These functions are just following the discount rule \n",
    "def flat_10_discount(total_pr):\n",
    "    if (total_pr > 200): return total_pr-10\n",
    "    return total_pr\n",
    "def bulk_10_discount(total_qn,total_pr):\n",
    "    if(total_qn > 20): return total_pr - (total_pr*0.1)\n",
    "    return total_pr\n",
    "def discount(total_pr,qn,cost,percent):\n",
    "    item_pr = qn*cost\n",
    "    total_pr -= (item_pr*percent)  \n",
    "    return total_pr\n"
   ]
  },
  {
   "cell_type": "code",
   "execution_count": 3,
   "id": "ab28a1a8",
   "metadata": {},
   "outputs": [
    {
     "name": "stdout",
     "output_type": "stream",
     "text": [
      "Product-Name: \t\t Price\n",
      " Chocolate                 25\n",
      " Chips                     20\n",
      " Candy                     10\n",
      "\n",
      "\n"
     ]
    }
   ],
   "source": [
    "#hr@zennode.com\n",
    "#Printing the item and their prices\n",
    "product_list = {\"Chocolate\":25,\"Chips\":20,\"Candy\":10,}#\"KinderJoy\":45,\"Coke\":50}\n",
    "print(\"Product-Name: \\t\\t Price\") \n",
    "for pro in product_list: print(f\" {pro: <25} {product_list[pro]}\")\n",
    "print(\"\\n\")"
   ]
  },
  {
   "cell_type": "code",
   "execution_count": 8,
   "id": "52685d09",
   "metadata": {},
   "outputs": [
    {
     "name": "stdout",
     "output_type": "stream",
     "text": [
      "Enter Quantity:\n",
      "*NOTE: Gift wrap fee: 1 per unit\n",
      " Chocolate:12\n",
      " Chocolate Include Gift Wrap? (Y/N):hjg\n",
      " Please Enter \"Y/y\" or \"N/n\".\n",
      " Chocolate Include Gift Wrap? (Y/N):y\n",
      " Chips:ui45\n",
      " Please Enter a Valid Quantity!.\n",
      " Chips:-56\n",
      " Please Enter a Existing quantity!.\n",
      " Chips:21\n",
      " Chips Include Gift Wrap? (Y/N):nn\n",
      " Please Enter \"Y/y\" or \"N/n\".\n",
      " Chips Include Gift Wrap? (Y/N):NN\n",
      " Please Enter \"Y/y\" or \"N/n\".\n",
      " Chips Include Gift Wrap? (Y/N):n\n",
      " Candy:10\n",
      " Candy Include Gift Wrap? (Y/N):Y\n"
     ]
    }
   ],
   "source": [
    "shop = {}\n",
    "gift = inp = 0\n",
    "total_pr = total_qn = 0\n",
    "print(\"Enter Quantity:\",\"*NOTE: Gift wrap fee: 1 per unit\",sep=\"\\n\")\n",
    "for pro in product_list:\n",
    "    while(1):\n",
    "        try:\n",
    "            inp = int(input(\" \"+pro+\":\")) # taking user-input untill correct format appears\n",
    "            shop[pro] = inp;\n",
    "            if(inp<0):print(\" Please Enter a Existing quantity!.\");continue;\n",
    "        except:print(\" Please Enter a Valid Quantity!.\");continue\n",
    "        break\n",
    "    while(1):\n",
    "        inp = input(f\" {pro} Include Gift Wrap? (Y/N):\")\n",
    "        if(inp==\"Y\" or inp==\"y\"): gift+=shop[pro];break\n",
    "        elif(inp==\"N\" or inp==\"n\"): break\n",
    "        else: print(\" Please Enter \\\"Y/y\\\" or \\\"N/n\\\".\");continue    \n",
    "    total_pr += shop[pro]*product_list[pro]\n",
    "    total_qn += shop[pro]"
   ]
  },
  {
   "cell_type": "code",
   "execution_count": 9,
   "id": "7afd5e96",
   "metadata": {},
   "outputs": [
    {
     "name": "stdout",
     "output_type": "stream",
     "text": [
      "\n",
      "\n"
     ]
    }
   ],
   "source": [
    "discount_price = total_pr\n",
    "discount_offer = \"\"\n",
    "# calculating the discount amount for the most beneficial one for customer\n",
    "price = flat_10_discount(total_pr)\n",
    "if(discount_price>price):\n",
    "    discount_price = price\n",
    "    discount_offer = \"flat_10_discount\"\n",
    "\n",
    "price = bulk_10_discount(total_qn,total_pr)\n",
    "if(discount_price>price):\n",
    "    discount_price = price\n",
    "    discount_offer = \"bulk_10_discount\"\n",
    "\n",
    "for pro in shop:\n",
    "    if(shop[pro]>10):\n",
    "        price = discount(total_pr,shop[pro],product_list[pro],0.05)\n",
    "        if(discount_price>price):\n",
    "            discount_price = price\n",
    "            discount_offer = \"bulk_5_discount\"\n",
    "    if(total_qn>30 and shop[pro]>15):\n",
    "        price = discount(total_pr,shop[pro]-15,product_list[pro],0.5)\n",
    "        if(discount_price>price):\n",
    "            discount_price = price\n",
    "            discount_offer = \"tiered_50_discount\"\n",
    "print(\"\\n\")\n",
    "ship_pr = (total_qn//10)*5\n",
    "if(total_qn%10 > 0): ship_pr+=5"
   ]
  },
  {
   "cell_type": "code",
   "execution_count": 10,
   "id": "ea38c125",
   "metadata": {},
   "outputs": [
    {
     "name": "stdout",
     "output_type": "stream",
     "text": [
      "Billing:-\n",
      "Product-Name:\t\t Quantity\t  Amount\n",
      " Chocolate                 12              300\n",
      " Chips                     21              420\n",
      " Candy                     10              100\n",
      "Subtotal: 820\n",
      "Discount Applied \"bulk_10_discount\" ✨✨\n",
      "The Discount amount: 738.0\n",
      "The shipping fee: 25\n",
      "The gift wrap fee:22\n",
      "Total: 785.0\n"
     ]
    }
   ],
   "source": [
    "#Printing the bill/Output\n",
    "print(\"Billing:-\")\n",
    "print(\"Product-Name:\\t\\t Quantity\\t  Amount\") \n",
    "for pro in shop: print(f\" {pro: <25} {shop[pro]: <15} {shop[pro]*product_list[pro]}\")\n",
    "#print(\"\\n\")\n",
    "print(\"Subtotal:\",total_pr)\n",
    "print(f\"Discount Applied \\\"{discount_offer}\\\" ✨✨\",f\"The Discount amount: {discount_price}\",sep=\"\\n\")\n",
    "print(f\"The shipping fee: {ship_pr}\",f\"The gift wrap fee:{gift}\",sep=\"\\n\")\n",
    "print(\"Total:\",discount_price+ship_pr+gift)"
   ]
  },
  {
   "cell_type": "code",
   "execution_count": null,
   "id": "87a1f5fd",
   "metadata": {},
   "outputs": [],
   "source": []
  },
  {
   "cell_type": "code",
   "execution_count": 7,
   "id": "65ecded0",
   "metadata": {},
   "outputs": [],
   "source": [
    "#print(product_list,shop,total_pr,total_qn,gift)"
   ]
  }
 ],
 "metadata": {
  "kernelspec": {
   "display_name": "Python 3 (ipykernel)",
   "language": "python",
   "name": "python3"
  },
  "language_info": {
   "codemirror_mode": {
    "name": "ipython",
    "version": 3
   },
   "file_extension": ".py",
   "mimetype": "text/x-python",
   "name": "python",
   "nbconvert_exporter": "python",
   "pygments_lexer": "ipython3",
   "version": "3.9.7"
  }
 },
 "nbformat": 4,
 "nbformat_minor": 5
}
